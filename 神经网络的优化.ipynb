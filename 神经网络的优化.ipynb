{
 "cells": [
  {
   "cell_type": "markdown",
   "metadata": {},
   "source": [
    "# 神经网络的优化"
   ]
  },
  {
   "cell_type": "markdown",
   "metadata": {},
   "source": [
    "### 1 权值和偏置的初始化\n",
    "权值和偏置使用正态分布"
   ]
  },
  {
   "cell_type": "markdown",
   "metadata": {},
   "source": [
    "### 2 修改损失函数\n",
    "#### 二次代价函数\n",
    "#### 交叉熵\n",
    "#### sotfmax函数\n",
    "#### 对数似然（log-likelihood） 代价函数"
   ]
  },
  {
   "cell_type": "markdown",
   "metadata": {},
   "source": [
    "### 3 过拟合\n",
    "#### 正则化\n",
    "#### dropout"
   ]
  },
  {
   "cell_type": "markdown",
   "metadata": {},
   "source": [
    "### 4 优化器的修改\n",
    "#### tf.train.GradientDescentOptimizer\n",
    "#### tf.train.AdadeltaOptimizer\n",
    "#### tf.train.AdagradOptimizer\n",
    "#### tf.train.AdagradDAOptimizer\n",
    "#### tf.train.MomentumOptimizer\n",
    "vt = γvt 1 + η∇WJ(W−γvt 1)\n",
    "W = W−vt\n",
    "NAG在TF中跟Momentum合并在同一个函数tf.train.MomentumOptimizer中，可以通过参\n",
    "分区 新分区 1 的第 2 页NAG在TF中跟Momentum合并在同一个函数tf.train.MomentumOptimizer中，可以通过参\n",
    "数配置启用。\n",
    "在Momentun中小球会盲目地跟从下坡的梯度，容易发生错误，所以我们需要一个更聪明的\n",
    "小球，这个小球提前知道它要去哪里，它还要知道走到坡底的时候速度慢下来而不是又冲上另\n",
    "一个坡。γvt−1会用来修改W的值，计算W−γvt−1可以表示小球下一个位置大概在哪里。从\n",
    "而我们可以提前计算下一个位置的梯度，然后使用到当前位置。\n",
    "#### tf.train.AdamOptimizer\n",
    "#### tf.train.FtrlOptimizer\n",
    "#### tf.train.ProximalGradientDescentOptimizer\n",
    "#### tf.train.ProximalAdagradOptimizer\n",
    "#### tf.train.RMSPropOptimizer"
   ]
  },
  {
   "cell_type": "code",
   "execution_count": null,
   "metadata": {
    "collapsed": true
   },
   "outputs": [],
   "source": []
  }
 ],
 "metadata": {
  "kernelspec": {
   "display_name": "Python 3",
   "language": "python",
   "name": "python3"
  },
  "language_info": {
   "codemirror_mode": {
    "name": "ipython",
    "version": 3
   },
   "file_extension": ".py",
   "mimetype": "text/x-python",
   "name": "python",
   "nbconvert_exporter": "python",
   "pygments_lexer": "ipython3",
   "version": "3.6.3"
  }
 },
 "nbformat": 4,
 "nbformat_minor": 2
}
