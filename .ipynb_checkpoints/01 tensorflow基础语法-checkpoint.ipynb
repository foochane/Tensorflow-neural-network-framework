{
 "cells": [
  {
   "cell_type": "markdown",
   "metadata": {},
   "source": [
    "Tensorflow是一个编程系统，使用图（graphs）来表示计算任务，图（graphs）中的节点称之为op\n",
    "（operation），一个op获得0个或多个Tensor，执行计算，产生0个或多个Tensor。 Tensor 看作是\n",
    "一个 n 维的数组或列表。图必须在会话（Session）里被启动。\n",
    "\n",
    "* 使用图（graphs）来表示计算任务\n",
    "* 在被称之为会话（Session）的上下文（context）中执行图\n",
    "* 使用tensor表示数据\n",
    "* 通过变量（Variable）维护状态\n",
    " 使用feed和fetch可以为任意的操作赋值或者从其中获取数据\n",
    "\n"
   ]
  },
  {
   "cell_type": "markdown",
   "metadata": {},
   "source": [
    "## 1 创建图 启动图"
   ]
  },
  {
   "cell_type": "code",
   "execution_count": null,
   "metadata": {
    "collapsed": true
   },
   "outputs": [],
   "source": [
    "import tensorflow as tf\n",
    "import numpy as np"
   ]
  },
  {
   "cell_type": "code",
   "execution_count": 2,
   "metadata": {
    "scrolled": true
   },
   "outputs": [
    {
     "name": "stdout",
     "output_type": "stream",
     "text": [
      "Tensor(\"MatMul:0\", shape=(1, 1), dtype=int32)\n"
     ]
    }
   ],
   "source": [
    "# 创建常量op\n",
    "m1 = tf.constant([[3,3]])\n",
    "m2 = tf.constant([[2],[3]])\n",
    "\n",
    "product = tf.matmul(m1,m2)\n",
    "print(product)"
   ]
  },
  {
   "cell_type": "code",
   "execution_count": 3,
   "metadata": {},
   "outputs": [
    {
     "name": "stdout",
     "output_type": "stream",
     "text": [
      "[[15]]\n"
     ]
    }
   ],
   "source": [
    "#定义一个回话，启动默认图\n",
    "sess = tf.Session()\n",
    "result = sess.run(product)\n",
    "print(result)\n",
    "sess.close()"
   ]
  },
  {
   "cell_type": "code",
   "execution_count": 4,
   "metadata": {},
   "outputs": [
    {
     "name": "stdout",
     "output_type": "stream",
     "text": [
      "[[15]]\n"
     ]
    }
   ],
   "source": [
    "#用with语句就，会自动关闭session\n",
    "with tf.Session() as sess:\n",
    "    result = sess.run(product)\n",
    "    print(result)"
   ]
  },
  {
   "cell_type": "markdown",
   "metadata": {},
   "source": [
    "## 2 变量"
   ]
  },
  {
   "cell_type": "code",
   "execution_count": 8,
   "metadata": {},
   "outputs": [
    {
     "name": "stdout",
     "output_type": "stream",
     "text": [
      "[-2 -1]\n",
      "[4 5]\n"
     ]
    }
   ],
   "source": [
    "x = tf.Variable([1,2])  # 变量\n",
    "a = tf.constant([3,3]) # 常量\n",
    "\n",
    "# op\n",
    "add = tf.add(x,a)\n",
    "sub = tf.subtract(x,a)\n",
    "\n",
    "#初始化所有的变量\n",
    "init = tf.global_variables_initializer()\n",
    "\n",
    "with tf.Session() as sess:\n",
    "    sess.run(init)\n",
    "    print(sess.run(sub))\n",
    "    print(sess.run(add))"
   ]
  },
  {
   "cell_type": "code",
   "execution_count": 6,
   "metadata": {},
   "outputs": [
    {
     "name": "stdout",
     "output_type": "stream",
     "text": [
      "0\n",
      "1\n",
      "2\n",
      "3\n",
      "4\n",
      "5\n"
     ]
    }
   ],
   "source": [
    "#创建一个变量初始化为0\n",
    "state = tf.Variable(0,name='counter')\n",
    "#创建一个op，自加1\n",
    "new_value = tf.add(state,1)\n",
    "#赋值\n",
    "update = tf.assign(state,new_value)\n",
    "#初始化变量\n",
    "init = tf.global_variables_initializer()\n",
    "\n",
    "with tf.Session()as sess:\n",
    "    sess.run(init)\n",
    "    print(sess.run(state))\n",
    "    for _ in range(5):\n",
    "        sess.run(update)\n",
    "        print(sess.run(state))"
   ]
  },
  {
   "cell_type": "markdown",
   "metadata": {
    "collapsed": true
   },
   "source": [
    "### 3 fetch and feed"
   ]
  },
  {
   "cell_type": "code",
   "execution_count": 8,
   "metadata": {},
   "outputs": [
    {
     "name": "stdout",
     "output_type": "stream",
     "text": [
      "[21.0, 7.0]\n"
     ]
    }
   ],
   "source": [
    "# Fetch\n",
    "input1 = tf.constant(3.0)\n",
    "input2 = tf.constant(2.0)\n",
    "input3 = tf.constant(5.0)\n",
    "\n",
    "add = tf.add(input2,input3)\n",
    "mul = tf.multiply(input1,add)\n",
    "\n",
    "with tf.Session() as sess:\n",
    "    result = sess.run([mul,add])\n",
    "    print(result)"
   ]
  },
  {
   "cell_type": "code",
   "execution_count": 14,
   "metadata": {},
   "outputs": [
    {
     "name": "stdout",
     "output_type": "stream",
     "text": [
      "[16.]\n"
     ]
    }
   ],
   "source": [
    "# Feed\n",
    "#创建占位符\n",
    "input1 = tf.placeholder(tf.float32)\n",
    "input2 = tf.placeholder(tf.float32)\n",
    "output = tf.multiply(input1,input2)\n",
    "\n",
    "with tf.Session() as sess:\n",
    "    # feed的数据以字典的形式传入\n",
    "    print(sess.run(output,feed_dict={input1:[8.],input2:[2.]}))"
   ]
  },
  {
   "cell_type": "markdown",
   "metadata": {},
   "source": [
    "## 4 简单示例"
   ]
  },
  {
   "cell_type": "code",
   "execution_count": 3,
   "metadata": {},
   "outputs": [
    {
     "name": "stdout",
     "output_type": "stream",
     "text": [
      "0 [k,b]: [0.055484455, 0.100760676]\n",
      "20 [k,b]: [0.10481772, 0.19733441]\n",
      "40 [k,b]: [0.102917485, 0.19838583]\n",
      "60 [k,b]: [0.101766735, 0.19902252]\n",
      "80 [k,b]: [0.10106987, 0.19940807]\n",
      "100 [k,b]: [0.10064787, 0.19964156]\n",
      "120 [k,b]: [0.10039232, 0.19978294]\n",
      "140 [k,b]: [0.100237556, 0.19986857]\n",
      "160 [k,b]: [0.10014386, 0.19992042]\n",
      "180 [k,b]: [0.10008711, 0.1999518]\n"
     ]
    }
   ],
   "source": [
    "import tensorflow as tf\n",
    "import numpy as np\n",
    "\n",
    "# 生成100个随机点\n",
    "x_data = np.random.rand(100)\n",
    "y_data =  .1 * x_data +.2 \n",
    "\n",
    "#待优化的参数\n",
    "b = tf.Variable(0.)\n",
    "k = tf.Variable(0.)\n",
    "y = k * x_data + b\n",
    "\n",
    "# 二次代价函数\n",
    "loss = tf.reduce_mean(tf.square(y_data - y))\n",
    "# 优化器\n",
    "optimizer = tf.train.GradientDescentOptimizer(0.2)\n",
    "train = optimizer.minimize(loss)\n",
    "\n",
    "#初始化变量\n",
    "init = tf.global_variables_initializer()\n",
    "\n",
    "with tf.Session() as sess:\n",
    "    sess.run(init)\n",
    "    for step in range(200):\n",
    "        sess.run(train)\n",
    "        if step%20==0:\n",
    "            print(step,'[k,b]:',sess.run([k,b]))"
   ]
  }
 ],
 "metadata": {
  "kernelspec": {
   "display_name": "Python 3",
   "language": "python",
   "name": "python3"
  },
  "language_info": {
   "codemirror_mode": {
    "name": "ipython",
    "version": 3
   },
   "file_extension": ".py",
   "mimetype": "text/x-python",
   "name": "python",
   "nbconvert_exporter": "python",
   "pygments_lexer": "ipython3",
   "version": "3.6.3"
  }
 },
 "nbformat": 4,
 "nbformat_minor": 2
}
